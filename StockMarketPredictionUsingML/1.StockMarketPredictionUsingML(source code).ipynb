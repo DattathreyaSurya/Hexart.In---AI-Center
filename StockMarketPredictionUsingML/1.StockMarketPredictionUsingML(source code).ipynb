{
 "cells": [
  {
   "cell_type": "code",
   "execution_count": null,
   "id": "9518155f",
   "metadata": {},
   "outputs": [],
   "source": [
    "import pandas as pd\n",
    "import numpy as np\n",
    "import matplotlib.pyplot as plt\n",
    "%matplotlib inline\n",
    "#%matplotlib inline enables the drawing of matplotlib figures in the IPython environment\n",
    "\n",
    "import chart_studio.plotly as py\n",
    "import plotly.graph_objs as go\n",
    "from plotly.offline import plot\n",
    "\n",
    "#for offline plotting\n",
    "from plotly.offline import download_plotlyjs, init_notebook_mode, plot, iplot\n",
    "init_notebook_mode(connected=True) "
   ]
  },
  {
   "cell_type": "code",
   "execution_count": null,
   "id": "191d4902",
   "metadata": {},
   "outputs": [],
   "source": [
    "# Reading input data set\n",
    "dataset = pd.read_csv('G:\\Dattathreya\\PROJECT\\DATA SETS\\INR=X.csv')\n",
    "dataset.head()\n",
    "# returns top 5 rows from the data set"
   ]
  },
  {
   "cell_type": "code",
   "execution_count": null,
   "id": "e84f7bac",
   "metadata": {},
   "outputs": [],
   "source": [
    "dataset.info()\n",
    "# to find no.of colums in the dataset and also returns null values"
   ]
  },
  {
   "cell_type": "code",
   "execution_count": null,
   "id": "128fb4a7",
   "metadata": {},
   "outputs": [],
   "source": [
    "# changing date to date time function using pandas and datetime()\n",
    "dataset['Date'] = pd.to_datetime(dataset['Date'])\n",
    "\n",
    "# To print the time period of data and number of days.\n",
    "# using formatted string litreal (f' ')\n",
    "print(\n",
    "    f'Dataframe contains stock prices between {dataset.Date.min()} {dataset.Date.max()}')\n",
    "print(\n",
    "    f'Total no.of days of data collected = {(dataset.Date.max() - dataset.Date.min()).days} days')"
   ]
  },
  {
   "cell_type": "code",
   "execution_count": null,
   "id": "e464c399",
   "metadata": {},
   "outputs": [],
   "source": [
    "# describe function gives the minimum, maximum, mean, standard deviation, and quatiles of the data\n",
    "dataset.describe()"
   ]
  },
  {
   "cell_type": "code",
   "execution_count": null,
   "id": "285f8715",
   "metadata": {},
   "outputs": [],
   "source": [
    "# Arranging the layout for our plot(graph)\n",
    "layout = go.Layout(\n",
    "    title='Stock Prices of Data',\n",
    "    xaxis=dict(\n",
    "        title='Date',\n",
    "        titlefont=dict(\n",
    "            family='Courier New, monospace',\n",
    "            size=18,\n",
    "            color='#7f7f7f'\n",
    "        )\n",
    "    ),\n",
    "    yaxis=dict(\n",
    "        title='Price',\n",
    "        titlefont=dict(\n",
    "            family='Courier New, monospace',\n",
    "            size=18,\n",
    "            color='#7f7f7f'\n",
    "        )\n",
    "    )\n",
    ")\n",
    "\n",
    "dataset_data = [{'x': dataset['Date'], 'y':dataset['Close']}]\n",
    "plot = go.Figure(data=dataset_data, layout=layout)\n",
    "\n",
    "# ploting the graph using iplot() function\n",
    "# plot(iplot)\n",
    "# plotting offline\n",
    "iplot(plot)"
   ]
  },
  {
   "cell_type": "code",
   "execution_count": null,
   "id": "44585d31",
   "metadata": {},
   "outputs": [],
   "source": [
    "# Building the regression model\n",
    "from sklearn.model_selection import train_test_split\n",
    "from sklearn.linear_model import LinearRegression\n",
    "\n",
    "#For preprocessing\n",
    "from sklearn.preprocessing import MinMaxScaler\n",
    "from sklearn.preprocessing import StandardScaler\n",
    "\n",
    "#for model evaluation and finding accuracy\n",
    "from sklearn.metrics import mean_squared_error as mse\n",
    "from sklearn.metrics import r2_score\n",
    "\n",
    "# Split the data into train and test sets\n",
    "X = np.array(dataset.index).reshape(-1, 1)\n",
    "Y = dataset['Close']\n",
    "X_train, X_test, Y_train, Y_test = train_test_split(\n",
    "    X, Y, test_size=0.3, random_state=101)\n",
    "\n",
    "# Creating a linear model\n",
    "lrm = LinearRegression()\n",
    "lrm.fit(X_train, Y_train)"
   ]
  },
  {
   "cell_type": "code",
   "execution_count": null,
   "id": "f3c0d85d",
   "metadata": {},
   "outputs": [],
   "source": [
    "# Plot actual and predicted values for train dataset\n",
    "trainact = go.Scatter(\n",
    "    x=X_train.T[0],\n",
    "    y=Y_train,\n",
    "    mode='markers',\n",
    "    name='Actual'\n",
    ")\n",
    "trainpred = go.Scatter(\n",
    "    x=X_train.T[0],\n",
    "    y=lrm.predict(X_train).T,\n",
    "    mode='lines',\n",
    "    name='Predicted'\n",
    ")\n",
    "dataset_data = [trainact, trainpred]\n",
    "layout.xaxis.title.text = 'Day'\n",
    "plot2 = go.Figure(data=dataset_data, layout=layout)\n",
    "\n",
    "iplot(plot2)"
   ]
  },
  {
   "cell_type": "code",
   "execution_count": null,
   "id": "908a0dc4",
   "metadata": {},
   "outputs": [],
   "source": [
    "#Calculate scores for model evaluation\n",
    "scores = f'''\n",
    "{'Metric'.ljust(10)}{'Train'.center(20)}{'Test'.center(20)}\n",
    "{'r2_score'.ljust(10)}{r2_score(Y_train, lrm.predict(X_train))}\\t{r2_score(Y_test, lrm.predict(X_test))}\n",
    "{'MSE'.ljust(10)}{mse(Y_train, lrm.predict(X_train))}\\t{mse(Y_test, lrm.predict(X_test))}\n",
    "'''\n",
    "print(scores)"
   ]
  }
 ],
 "metadata": {
  "kernelspec": {
   "display_name": "Python 3 (ipykernel)",
   "language": "python",
   "name": "python3"
  },
  "language_info": {
   "codemirror_mode": {
    "name": "ipython",
    "version": 3
   },
   "file_extension": ".py",
   "mimetype": "text/x-python",
   "name": "python",
   "nbconvert_exporter": "python",
   "pygments_lexer": "ipython3",
   "version": "3.9.13"
  }
 },
 "nbformat": 4,
 "nbformat_minor": 5
}
