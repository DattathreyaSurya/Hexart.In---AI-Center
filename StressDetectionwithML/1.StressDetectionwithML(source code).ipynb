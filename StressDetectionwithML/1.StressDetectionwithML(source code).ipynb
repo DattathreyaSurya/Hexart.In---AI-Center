{
 "cells": [
  {
   "cell_type": "code",
   "execution_count": null,
   "id": "2d3f9d3b",
   "metadata": {},
   "outputs": [],
   "source": [
    "import pandas as pd\n",
    "import numpy as np\n",
    "import matplotlib.pyplot as plt\n",
    "import seaborn as sns"
   ]
  },
  {
   "cell_type": "code",
   "execution_count": null,
   "id": "d372746a",
   "metadata": {},
   "outputs": [],
   "source": [
    "dataset = pd.read_csv('G:\\Dattathreya\\PROJECT\\DATA SETS\\Human Stress.csv')\n",
    "dataset.head(2)"
   ]
  },
  {
   "cell_type": "code",
   "execution_count": null,
   "id": "bcba5a13",
   "metadata": {},
   "outputs": [],
   "source": [
    "dataset.columns=[['snoring range','respiration rate','body temperature','limb movement rate', \n",
    "            'blood oxygen levels','eye movement', \n",
    "            'number of hours of sleep', 'heart rate','Stress Levels']]\n",
    "dataset.head()"
   ]
  },
  {
   "cell_type": "code",
   "execution_count": null,
   "id": "059e0fea",
   "metadata": {},
   "outputs": [],
   "source": [
    "corr = dataset.corr()\n",
    "corr['Stress Levels']"
   ]
  },
  {
   "cell_type": "code",
   "execution_count": null,
   "id": "7fad53f6",
   "metadata": {},
   "outputs": [],
   "source": [
    "from sklearn.model_selection import train_test_split\n",
    "x = dataset.iloc[:,:-1]\n",
    "x"
   ]
  },
  {
   "cell_type": "code",
   "execution_count": null,
   "id": "ce298a97",
   "metadata": {},
   "outputs": [],
   "source": [
    "y =dataset.iloc[:,-1]\n",
    "y"
   ]
  },
  {
   "cell_type": "code",
   "execution_count": null,
   "id": "721fd63a",
   "metadata": {},
   "outputs": [],
   "source": [
    "xtrain,xtest,ytrain,ytest = train_test_split(x,y,test_size = 0.20)"
   ]
  },
  {
   "cell_type": "markdown",
   "id": "ebb92819",
   "metadata": {},
   "source": [
    "Feature Selection 1"
   ]
  },
  {
   "cell_type": "code",
   "execution_count": null,
   "id": "016eb6fc",
   "metadata": {},
   "outputs": [],
   "source": [
    "from sklearn.feature_selection import SelectKBest\n",
    "from sklearn.feature_selection import mutual_info_classif\n",
    "\n",
    "kbest = SelectKBest(mutual_info_classif,k=4)\n",
    "slectfeture = kbest.fit(xtrain,ytrain)\n",
    "\n",
    "xtrain.columns[slectfeture.get_support()]"
   ]
  },
  {
   "cell_type": "code",
   "execution_count": null,
   "id": "6a7755d8",
   "metadata": {},
   "outputs": [],
   "source": [
    "x1 = dataset[['snoring range','respiration rate','blood oxygen levels','heart rate']]\n",
    "\n",
    "x1.head(1)"
   ]
  },
  {
   "cell_type": "code",
   "execution_count": null,
   "id": "d0e792e1",
   "metadata": {},
   "outputs": [],
   "source": [
    "x1train,x1test,y1train,y1test = train_test_split(x1,y,test_size = 0.20)\n",
    "\n",
    "x1train.head(1)"
   ]
  },
  {
   "cell_type": "code",
   "execution_count": null,
   "id": "58f2f31e",
   "metadata": {},
   "outputs": [],
   "source": [
    "from sklearn.ensemble import AdaBoostClassifier\n",
    "model1 = AdaBoostClassifier()\n",
    "model1.fit(x1train,y1train)"
   ]
  },
  {
   "cell_type": "code",
   "execution_count": null,
   "id": "a013d628",
   "metadata": {},
   "outputs": [],
   "source": [
    "print('train score',model1.score(x1train,y1train))\n",
    "print('test score',model1.score(x1test,y1test))"
   ]
  },
  {
   "cell_type": "markdown",
   "id": "aa475dae",
   "metadata": {},
   "source": [
    "Feature Selection 2"
   ]
  },
  {
   "cell_type": "code",
   "execution_count": null,
   "id": "fd9a9d9e",
   "metadata": {},
   "outputs": [],
   "source": [
    "from sklearn.feature_selection import SelectPercentile\n",
    "from sklearn.feature_selection import mutual_info_classif\n",
    "\n",
    "sp = SelectPercentile(mutual_info_classif,percentile = 2)\n",
    "slectfeature2 = sp.fit(xtrain,ytrain)"
   ]
  },
  {
   "cell_type": "code",
   "execution_count": null,
   "id": "6a34b0a6",
   "metadata": {},
   "outputs": [],
   "source": [
    "xtrain.columns[slectfeature2.get_support()]"
   ]
  },
  {
   "cell_type": "markdown",
   "id": "3231ad99",
   "metadata": {},
   "source": [
    "Train model"
   ]
  },
  {
   "cell_type": "code",
   "execution_count": null,
   "id": "7e8170fa",
   "metadata": {},
   "outputs": [],
   "source": [
    "xtrain.head(2)"
   ]
  },
  {
   "cell_type": "code",
   "execution_count": null,
   "id": "403b1cf8",
   "metadata": {},
   "outputs": [],
   "source": [
    "model2 = AdaBoostClassifier()\n",
    "model2.fit(xtrain,ytrain)"
   ]
  },
  {
   "cell_type": "code",
   "execution_count": null,
   "id": "65a35495",
   "metadata": {},
   "outputs": [],
   "source": [
    "print('train score',model2.score(xtrain,ytrain))\n",
    "print('test score',model2.score(xtest,ytest))"
   ]
  },
  {
   "cell_type": "markdown",
   "id": "1ad69cd9",
   "metadata": {},
   "source": [
    "feature importance again train model"
   ]
  },
  {
   "cell_type": "code",
   "execution_count": null,
   "id": "8f60cf44",
   "metadata": {},
   "outputs": [],
   "source": [
    "imp = model2.feature_importances_\n",
    "imp = pd.DataFrame(imp)\n",
    "\n",
    "feature = xtrain.columns\n",
    "feature = pd.DataFrame(feature)\n",
    "\n",
    "importfeature = pd.concat([imp,feature],axis=1)\n",
    "importfeature.columns=['importace','feature']\n",
    "\n",
    "importfeature"
   ]
  },
  {
   "cell_type": "code",
   "execution_count": null,
   "id": "4407f891",
   "metadata": {},
   "outputs": [],
   "source": [
    "sns.barplot(x= importfeature['feature'],y = importfeature['importace'])\n",
    "plt.tick_params(rotation =90)"
   ]
  },
  {
   "cell_type": "code",
   "execution_count": null,
   "id": "32b77cdb",
   "metadata": {},
   "outputs": [],
   "source": [
    "x2 = dataset[['body temperature','blood oxygen levels','number of hours of sleep','respiration rate']]\n",
    "\n",
    "x2.head(2)"
   ]
  },
  {
   "cell_type": "code",
   "execution_count": null,
   "id": "9bdb3b61",
   "metadata": {},
   "outputs": [],
   "source": [
    "x2train,x2test,y2train,y2test = train_test_split(x2,y,test_size = 0.20)"
   ]
  },
  {
   "cell_type": "code",
   "execution_count": null,
   "id": "10fd5e5c",
   "metadata": {},
   "outputs": [],
   "source": [
    "x2train.head(2)"
   ]
  },
  {
   "cell_type": "code",
   "execution_count": null,
   "id": "68d32f81",
   "metadata": {},
   "outputs": [],
   "source": [
    "model3 = AdaBoostClassifier()\n",
    "model3.fit(x2train,y2train)"
   ]
  },
  {
   "cell_type": "code",
   "execution_count": null,
   "id": "e2ccf818",
   "metadata": {},
   "outputs": [],
   "source": [
    "print('train score',model3.score(x2train,y2train))\n",
    "print('test score',model3.score(x2test,y2test))"
   ]
  }
 ],
 "metadata": {
  "kernelspec": {
   "display_name": "Python 3 (ipykernel)",
   "language": "python",
   "name": "python3"
  },
  "language_info": {
   "codemirror_mode": {
    "name": "ipython",
    "version": 3
   },
   "file_extension": ".py",
   "mimetype": "text/x-python",
   "name": "python",
   "nbconvert_exporter": "python",
   "pygments_lexer": "ipython3",
   "version": "3.9.13"
  }
 },
 "nbformat": 4,
 "nbformat_minor": 5
}
